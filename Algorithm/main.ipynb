{
 "cells": [
  {
   "cell_type": "markdown",
   "metadata": {},
   "source": [
    "**Original code**: [Babak Khavari](https://github.com/babakkhavari)<br>\n",
    "**Conceptualization & Methodological review** : [Babak Khavari](https://github.com/babakkhavari)<br>\n",
    "**Updates, Modifications**: [Babak Khavari](https://github.com/babakkhavari)<br>\n",
    "\n",
    "# Clustering Notebook\n",
    "\n",
    "The following notebook can be used in order to replicate the population clusters developed and published in https://data.mendeley.com/datasets/z9zfhzk8cr/. Please see **Assessing the urban-rural split and electrification in Sub-Saharan Africa  - a cluster-based methodology** for more information. For a more thorough description of each function please refer to the funcs.ipynb. \n",
    "\n",
    "## Datasets\n",
    "The cluster makes use of three (3) GIS-datasets:\n",
    "* **Administrative units (vector polygon)** - This should be disagreggated. It will be used to 1) delimit the population layer to the area of interest and 2) to limit the maximum size of the clusters\n",
    "* **Population (raster)**\n",
    "* **Nighttime lights (raster)** - This will be used in order to estimate electrified population in each cluster.\n",
    "\n",
    "\n",
    "## Pre-processing\n",
    "Before using this notebook please ensure that all of your datasets are in the WGS84 coordinate reference system (EPSG:4326) and that your raster datasets are clipped to the administrative boundaries of the area of interest \n",
    "\n",
    "\n",
    "## Output\n",
    "The final clusters will include 7 columns.\n",
    "\n",
    "1. **id** – The IDs are given as a unique number for each cluster. This enables the user to process the data contained in the clusters outside of a GIS software and then merge the data with the clusters.\n",
    "\n",
    "\n",
    "2. **Country** – Name of the country. \n",
    "\n",
    "\n",
    "3. **Population** – This is the population in each cluster obtained from the population dataset.\n",
    "\n",
    "\n",
    "4. **NightLight** – This value is obtained from the nighttime light map and represents the maximum luminance detected in each cluster (best results are obtained with stable lights).\n",
    "\n",
    "\n",
    "5. **ElecPop** – The number of people in each cluster who live in areas where light sources are detected.\n",
    "\n",
    "\n",
    "6. **Area** – The area of each cluster given in square kilometres.\n",
    "\n",
    "\n",
    "7. **IsUrban** - Urban/Peri-urban/Rural classification (urban = 2, peri-urban = 1, rural = 0)\n",
    "    "
   ]
  },
  {
   "cell_type": "markdown",
   "metadata": {},
   "source": [
    "## Cell 1 - Importing packages"
   ]
  },
  {
   "cell_type": "code",
   "execution_count": 1,
   "metadata": {},
   "outputs": [],
   "source": [
    "from ipynb.fs.full.funcs import *"
   ]
  },
  {
   "cell_type": "markdown",
   "metadata": {},
   "source": [
    "## Cell 2 - Selecting Datasets\n",
    "\n",
    "Select the workspace, this is the folder that will be used for the outputs. \n",
    "\n",
    "**NOTE** Select an empty folder as all the files will be deleted from the workspace once the clusters are generated\n",
    "\n",
    "You will also have to select the three datasets used in the analysis. These are: administrative boundaries, population (.tif), Nighttime lights (.tif)\n",
    " \n"
   ]
  },
  {
   "cell_type": "code",
   "execution_count": 2,
   "metadata": {},
   "outputs": [],
   "source": [
    "messagebox.showinfo('OnSSET extraction', 'Output folder')\n",
    "workspace = filedialog.askdirectory()\n",
    "\n",
    "messagebox.showinfo('OnSSET', 'Select the population map')\n",
    "filename_pop = filedialog.askopenfilename(filetypes = ((\"rasters\",\"*.tif\"),(\"all files\",\"*.*\")))\n",
    "pop=gdal.Open(filename_pop)\n",
    "poprasterio=rasterio.open(filename_pop)\n",
    "\n",
    "messagebox.showinfo('OnSSET', 'Select the nightlights map')\n",
    "filename_NTL = filedialog.askopenfilename(filetypes = ((\"rasters\",\"*.tif\"),(\"all files\",\"*.*\")))\n",
    "NTL = gdal.Open(filename_NTL)\n",
    "NTLrasterio = rasterio.open(filename_NTL)\n",
    "\n",
    "messagebox.showinfo('OnSSET', 'Select the admin map')\n",
    "filename_admin = (filedialog.askopenfilename(filetypes = ((\"shapefile\",\"*.shp\"),(\"all files\",\"*.*\"))))\n",
    "admin=gpd.read_file(filename_admin)"
   ]
  },
  {
   "cell_type": "markdown",
   "metadata": {},
   "source": [
    "## Cell 3 - Setting study area name\n",
    "\n",
    "This will dictate the name displayed in the country column of the final clusters"
   ]
  },
  {
   "cell_type": "code",
   "execution_count": 3,
   "metadata": {},
   "outputs": [],
   "source": [
    "study_area_name = \"Benin\""
   ]
  },
  {
   "cell_type": "markdown",
   "metadata": {},
   "source": [
    "## Cell 4 - Setting the target coordinate system\n",
    "When calculating distances and areas it is important to choose a coordinate system that represents distances and areas correctly in your area of interst.\n",
    "\n",
    "In order to select your own coordinate system go to [epsg.io](http://epsg.io/) and type in your area of interest, this will give you a list of coordinate systems to choose from. Once you have selected your coordinate system replace the numbers below with the numbers from your coordinate system **(keep the \"EPSG\" part)**.\n",
    "\n",
    "**NOTE** When selecting your coordinate system make sure that you select a system with the unit of meters (or another linear lenght unit), this is indicated for all systems on [epsg.io](http://epsg.io/)"
   ]
  },
  {
   "cell_type": "code",
   "execution_count": 4,
   "metadata": {},
   "outputs": [],
   "source": [
    "crs = 'epsg:3395'"
   ]
  },
  {
   "cell_type": "markdown",
   "metadata": {},
   "source": [
    "## Cell 5 - Urban ratio, actual population and thresholds\n",
    "\n",
    "1) Enter the urban ratio in the study area. This will be used to calibrate the urban and rural clusters (0 = everyone is rural, 1 = everyone is urban).<br><br>\n",
    "2) Enter the total population in your study area for the year of interest. This will be used to calibrate the GIS-population.<br><br>\n",
    "3) Enter thresholds for population and nighttime light. All values under the threshold in the population and/or NTL maps will be removed. This will have an effect on the electrification proxy and can be used in order to remove noise in the NTL maps."
   ]
  },
  {
   "cell_type": "code",
   "execution_count": 5,
   "metadata": {},
   "outputs": [],
   "source": [
    "urban_ratio = 0.48\n",
    "total_population = 12123000\n",
    "population_threshold = 0\n",
    "NTL_threshold = 0"
   ]
  },
  {
   "cell_type": "markdown",
   "metadata": {},
   "source": [
    "## Cell 6 - Clipping raster layers\n",
    "\n",
    "Clipping the nighttime lights and population maps to the extent of the study area. The first parameter is the raster to clip and the second parameter is the polygon to clip the raster by. **Do not change the parameters given here**."
   ]
  },
  {
   "cell_type": "code",
   "execution_count": 6,
   "metadata": {},
   "outputs": [],
   "source": [
    "clipped_NTL = clipRasterByExtent(NTL, admin)\n",
    "clipped_Pop = clipRasterByExtent(pop, admin)"
   ]
  },
  {
   "cell_type": "markdown",
   "metadata": {},
   "source": [
    "## Cell 7 - Reclassifying rasters\n",
    "\n",
    "Reclassifies the clipped nighttime lights and population layers. The function sets everything under the thresholds to zero. The first parameter is the clipped raster from cell 6 and the second parameter the thresholds from cell 5. **Do not change the parameters given here**."
   ]
  },
  {
   "cell_type": "code",
   "execution_count": 7,
   "metadata": {},
   "outputs": [],
   "source": [
    "reclassified_NTL = reclassifyRasters(clipped_NTL, NTL_threshold)\n",
    "reclassified_Pop = reclassifyRasters(clipped_Pop, population_threshold)"
   ]
  },
  {
   "cell_type": "markdown",
   "metadata": {},
   "source": [
    "## Cell 8 - Resample population raster\n",
    "\n",
    "Resample population layer and save the resampled map to disc.\n",
    "\n",
    "In **resampleRaster** the first parameter is the raster to be reclassified. The second parameter is the factor used in the resampling (i.e if you have a raster with cell size 30m a factor 3 creates an output raster with cell size 90m). You are recommended to change this value to one if the cell-size of your population layer is larger than 100m. The output is a memory layer.\n",
    "\n",
    "In **saveRaster** the memory layer from resampleRaster is saved to disc."
   ]
  },
  {
   "cell_type": "code",
   "execution_count": 8,
   "metadata": {},
   "outputs": [],
   "source": [
    "resampled_Pop = resampleRaster(reclassified_Pop, 3)\n",
    "saveRaster(resampled_Pop, workspace + r\"/rasterBase.tif\")"
   ]
  },
  {
   "cell_type": "markdown",
   "metadata": {},
   "source": [
    "## Cell 9 - Convert rasters to polygon\n",
    "\n",
    "Converts the nighttime lights greater than the threshold to polygons. The second parameter ensures that the polygons are saved with the correct name. **Do not change the parameters given here**."
   ]
  },
  {
   "cell_type": "code",
   "execution_count": 9,
   "metadata": {},
   "outputs": [],
   "source": [
    "NTL_pol = toPolygon(reclassified_NTL, 2, workspace + r\"/NTLArea\")"
   ]
  },
  {
   "cell_type": "markdown",
   "metadata": {},
   "source": [
    "## Cell 10 - Creating the cluster base\n",
    "\n",
    "**rasterize** Coverts the administrative areas to rasters.\n",
    "\n",
    "**rasterMultiplication** multiplies the resampled population with the rasterized admin and overwrites the reasmple raster with the results.\n",
    "\n",
    "**toPolygon** coverts the results from the rasterMultiplication to polygons. The second parameter ensures that the polygons are saved with the correct name. \n",
    "\n",
    "This ensures that the clusters do not spil over different administrative borders. If you do not wish to add such a restriction use the national administrative unit as your administrative layer (level 0). \n",
    "\n",
    "**Do not change the parameters given here**."
   ]
  },
  {
   "cell_type": "code",
   "execution_count": 10,
   "metadata": {},
   "outputs": [],
   "source": [
    "rasterize(admin, filename_admin,resampled_Pop, workspace + r'/raster_admin.tif')\n",
    "rasterMultiplication(workspace + r\"/rasterBase.tif\", workspace + r\"/raster_admin.tif\", workspace + r\"/rasterBase.tif\")\n",
    "clusters = toPolygon(workspace + r\"/rasterBase.tif\", 1, workspace + r\"/clusters\")"
   ]
  },
  {
   "cell_type": "markdown",
   "metadata": {},
   "source": [
    "#### Optional step - adding a buffer zone, dissolve and convert to single part polygons\n",
    "The buffer will reduce the number of final clusters. You may skip this step if you want to have a more \"clean\" result."
   ]
  },
  {
   "cell_type": "code",
   "execution_count": 11,
   "metadata": {},
   "outputs": [],
   "source": [
    "#Define coordinate system of the geodataframe\n",
    "clusters = gpd.GeoDataFrame(clusters, geometry='geometry', crs={'init': 'epsg:4326'})\n",
    "\n",
    "# Projecting geodataframe to coordinate system (so buffer can be added in meters)\n",
    "clusters_prj = clusters.to_crs({'init': \"epsg:3395\"})"
   ]
  },
  {
   "cell_type": "code",
   "execution_count": 12,
   "metadata": {},
   "outputs": [],
   "source": [
    "# Adding buffer (in meters)\n",
    "clusters_prj[\"geometry\"] = clusters_prj.geometry.buffer(500)\n",
    "\n",
    "# Adding supporting column for dissolving \n",
    "clusters_prj[\"DISS\"] = 0\n",
    "\n",
    "# Dissolve buffered polygons\n",
    "clusters_prj = clusters_prj.dissolve(by=\"DISS\")\n",
    "\n",
    "# Convert one multipart polygon (product of dissolve) to many single part polygons \n",
    "clusters_prj = multi2single(clusters_prj)\n",
    "\n",
    "# Reproject data to the reference coordinate system \n",
    "clusters = clusters_prj.to_crs({'init': 'epsg:4326'})    "
   ]
  },
  {
   "cell_type": "markdown",
   "metadata": {},
   "source": [
    "## Cell 11 - Adding attributes to clusters\n",
    "\n",
    "Generates the *id*, *Country* and *Area* columns. **Do not change the parameters given here**."
   ]
  },
  {
   "cell_type": "code",
   "execution_count": 13,
   "metadata": {},
   "outputs": [],
   "source": [
    "clusters = addAttributes(clusters, crs, study_area_name)"
   ]
  },
  {
   "cell_type": "markdown",
   "metadata": {},
   "source": [
    "## Cell 12 - Generate ElecPop \n",
    "\n",
    "Clip the population data with the polygon nighttime lights to generate layer with population in lit areas. This spatial distribution in this layer is dependent on the thresholds given in Cell 5. **Do not change the parameters given here**."
   ]
  },
  {
   "cell_type": "code",
   "execution_count": 14,
   "metadata": {},
   "outputs": [],
   "source": [
    "elecPop = clipRasterByMask(poprasterio.name, workspace + r\"/NTLArea.shp\", \"EPSG:4326\", workspace + r\"/rasterBase.tif\")"
   ]
  },
  {
   "cell_type": "markdown",
   "metadata": {},
   "source": [
    "## Cell 13 - Populating clusters\n",
    "\n",
    "Adding the *Population*, *NightLight* and *ElecPop* columns. **Do not change the parameters given here**."
   ]
  },
  {
   "cell_type": "code",
   "execution_count": 15,
   "metadata": {},
   "outputs": [],
   "source": [
    "clusters = populatingClusters(clusters, poprasterio, \"Pop\", \"sum\")\n",
    "clusters = populatingClusters(clusters, NTLrasterio, \"NTL\", \"max\")\n",
    "clusters = populatingClusters(clusters, elecPop, \"ElecPop\", \"sum\")"
   ]
  },
  {
   "cell_type": "markdown",
   "metadata": {},
   "source": [
    "## Cell 14 - Calibrate population \n",
    "\n",
    "Calibrating population based on the population value given in Cell 5. **Do not change the parameters given here**."
   ]
  },
  {
   "cell_type": "code",
   "execution_count": 16,
   "metadata": {},
   "outputs": [],
   "source": [
    "elecPop=None\n",
    "clusters = calibratePop(clusters, workspace, total_population)"
   ]
  },
  {
   "cell_type": "markdown",
   "metadata": {},
   "source": [
    "## Cell 15 - Calibrate Urban and rural split \n",
    "\n",
    "Calibrating urban ratio based on the urban rate given in Cell 5. **Do not change the parameters given here**."
   ]
  },
  {
   "cell_type": "code",
   "execution_count": 17,
   "metadata": {},
   "outputs": [
    {
     "name": "stdout",
     "output_type": "stream",
     "text": [
      "Modelled urban ratio is 0.419% in comparision to the actual ratio of 0.48% after 501 iterations.\n"
     ]
    }
   ],
   "source": [
    "urbanSplit = calibrateUrban(clusters, urban_ratio, workspace)"
   ]
  }
 ],
 "metadata": {
  "kernelspec": {
   "display_name": "Python 3",
   "language": "python",
   "name": "python3"
  },
  "language_info": {
   "codemirror_mode": {
    "name": "ipython",
    "version": 3
   },
   "file_extension": ".py",
   "mimetype": "text/x-python",
   "name": "python",
   "nbconvert_exporter": "python",
   "pygments_lexer": "ipython3",
   "version": "3.7.6"
  }
 },
 "nbformat": 4,
 "nbformat_minor": 2
}
